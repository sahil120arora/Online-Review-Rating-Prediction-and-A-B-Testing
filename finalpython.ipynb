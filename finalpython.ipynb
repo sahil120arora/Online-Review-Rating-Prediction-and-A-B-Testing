{
 "cells": [
  {
   "cell_type": "code",
   "execution_count": 1,
   "metadata": {},
   "outputs": [],
   "source": [
    "#Import modules\n",
    "import pandas as pd\n",
    "import numpy as np\n",
    "\n",
    "#Importcsv file to a dataframe\n",
    "df = pd.read_csv('C:/Users/thima/Desktop/sahil/reviews.csv')"
   ]
  },
  {
   "cell_type": "code",
   "execution_count": 2,
   "metadata": {},
   "outputs": [],
   "source": [
    "# subset to get data for location_id 4962_201 and removing missing values\n",
    "dfa = df[df['location_id'] == '4962_201'].dropna()\n",
    "# Extract rating clumn for this location\n",
    "loc4962_201 = dfa['rating']"
   ]
  },
  {
   "cell_type": "code",
   "execution_count": 3,
   "metadata": {},
   "outputs": [],
   "source": [
    "# subset to get data for location_id 4962_380 and removing missing values\n",
    "dfb = df[df['location_id'] == '4962_380'].dropna()\n",
    "# Extract rating clumn for this location\n",
    "loc4962_380 = dfb['rating']"
   ]
  },
  {
   "cell_type": "code",
   "execution_count": 4,
   "metadata": {},
   "outputs": [
    {
     "data": {
      "text/plain": [
       "4.750539956803456"
      ]
     },
     "execution_count": 4,
     "metadata": {},
     "output_type": "execute_result"
    }
   ],
   "source": [
    "#Get mean for location_id 4962_201\n",
    "loc4962_201.mean()"
   ]
  },
  {
   "cell_type": "code",
   "execution_count": 5,
   "metadata": {},
   "outputs": [
    {
     "data": {
      "text/plain": [
       "4.669796557120501"
      ]
     },
     "execution_count": 5,
     "metadata": {},
     "output_type": "execute_result"
    }
   ],
   "source": [
    "#Get mean for location_id 4962_380\n",
    "loc4962_380.mean()"
   ]
  },
  {
   "cell_type": "code",
   "execution_count": 6,
   "metadata": {},
   "outputs": [
    {
     "data": {
      "text/plain": [
       "LeveneResult(statistic=2.9216214439327843, pvalue=0.08759850318285413)"
      ]
     },
     "execution_count": 6,
     "metadata": {},
     "output_type": "execute_result"
    }
   ],
   "source": [
    "# F test - test for equality of variance\n",
    "from scipy import stats\n",
    "stats.levene(loc4962_201, loc4962_380)"
   ]
  },
  {
   "cell_type": "code",
   "execution_count": 7,
   "metadata": {},
   "outputs": [
    {
     "name": "stdout",
     "output_type": "stream",
     "text": [
      "reject null hypothesis\n"
     ]
    }
   ],
   "source": [
    "#t test\n",
    "\n",
    "results = stats.ttest_ind(loc4962_201, loc4962_380)\n",
    "alpha = 0.05\n",
    "if (results[0] > 0) & (results[1]/2 < alpha):\n",
    "    print (\"reject null hypothesis\")\n",
    "else:\n",
    "    print (\"do not reject null hypothesis\")\n",
    "# reject null hypothesis, mean of loc4962_201 is greater than mean of loc4962_380"
   ]
  },
  {
   "cell_type": "code",
   "execution_count": 9,
   "metadata": {},
   "outputs": [],
   "source": [
    "# subset to get data for location_id 4962_381 and removing missing values\n",
    "dfc = df[df['location_id'] == '4962_381'].dropna()\n",
    "# Extract rating clumn for this location\n",
    "loc4962_381 = dfc['rating']"
   ]
  },
  {
   "cell_type": "code",
   "execution_count": 10,
   "metadata": {},
   "outputs": [],
   "source": [
    "# subset to get data for location_id 4962_915 and removing missing values\n",
    "dfd = df[df['location_id'] == '4962_915'].dropna()\n",
    "# Extract rating clumn for this location\n",
    "loc4962_915 = dfd['rating']"
   ]
  },
  {
   "cell_type": "code",
   "execution_count": 23,
   "metadata": {},
   "outputs": [
    {
     "data": {
      "text/plain": [
       "4.554561717352415"
      ]
     },
     "execution_count": 23,
     "metadata": {},
     "output_type": "execute_result"
    }
   ],
   "source": [
    "#Get mean for location_id 4962_381\n",
    "loc4962_381.mean()\n"
   ]
  },
  {
   "cell_type": "code",
   "execution_count": 24,
   "metadata": {},
   "outputs": [
    {
     "data": {
      "text/plain": [
       "4.629558541266794"
      ]
     },
     "execution_count": 24,
     "metadata": {},
     "output_type": "execute_result"
    }
   ],
   "source": [
    "#Get mean for location_id 4962_915\n",
    "loc4962_915.mean()"
   ]
  },
  {
   "cell_type": "code",
   "execution_count": 16,
   "metadata": {},
   "outputs": [
    {
     "data": {
      "text/plain": [
       "LeveneResult(statistic=1.3001425578191435, pvalue=0.25444045416051253)"
      ]
     },
     "execution_count": 16,
     "metadata": {},
     "output_type": "execute_result"
    }
   ],
   "source": [
    "# F test - test for equality of variance\n",
    "stats.levene(loc4962_381, loc4962_915)"
   ]
  },
  {
   "cell_type": "code",
   "execution_count": 20,
   "metadata": {},
   "outputs": [
    {
     "data": {
      "text/plain": [
       "Ttest_indResult(statistic=-1.1402379391246042, pvalue=0.2544404541606672)"
      ]
     },
     "execution_count": 20,
     "metadata": {},
     "output_type": "execute_result"
    }
   ],
   "source": [
    "#t test\n",
    "stats.ttest_ind(loc4962_381, loc4962_915)\n",
    "# do  not reject null hypothesis, equal means"
   ]
  },
  {
   "cell_type": "code",
   "execution_count": 48,
   "metadata": {},
   "outputs": [],
   "source": [
    "#Extract year from data\n",
    "df['year'] = pd.DatetimeIndex(df['date']).year"
   ]
  },
  {
   "cell_type": "code",
   "execution_count": 49,
   "metadata": {},
   "outputs": [
    {
     "data": {
      "text/plain": [
       "array(['location_id', 'review_id', 'date', 'rating', 'year',\n",
       "       'source_CARS', 'source_FACEBOOK', 'source_GOOGLE_PLACES'],\n",
       "      dtype=object)"
      ]
     },
     "execution_count": 49,
     "metadata": {},
     "output_type": "execute_result"
    }
   ],
   "source": [
    "#create dummy variables for source\n",
    "cat_vars=['source']\n",
    "for var in cat_vars:\n",
    "    cat_list='var'+'_'+var\n",
    "    cat_list = pd.get_dummies(df[var], prefix=var)\n",
    "    df1=df.join(cat_list)\n",
    "    df=df1\n",
    "cat_vars=['source']\n",
    "data_vars=df.columns.values.tolist()\n",
    "to_keep=[i for i in data_vars if i not in cat_vars]\n",
    "dfn=df[to_keep]\n",
    "dfn.columns.values\n"
   ]
  },
  {
   "cell_type": "code",
   "execution_count": 50,
   "metadata": {},
   "outputs": [],
   "source": [
    "#remove missing values\n",
    "dfn = dfn[pd.notnull(dfn['rating'])]"
   ]
  },
  {
   "cell_type": "code",
   "execution_count": 51,
   "metadata": {},
   "outputs": [
    {
     "data": {
      "text/plain": [
       "5.0    139838\n",
       "1.0     18192\n",
       "4.0     13636\n",
       "3.0      4171\n",
       "2.0      3439\n",
       "Name: rating, dtype: int64"
      ]
     },
     "execution_count": 51,
     "metadata": {},
     "output_type": "execute_result"
    }
   ],
   "source": [
    "#rating count\n",
    "dfn['rating'].value_counts()"
   ]
  },
  {
   "cell_type": "code",
   "execution_count": 54,
   "metadata": {},
   "outputs": [],
   "source": [
    "#predictors\n",
    "X = dfn[['location_id', 'source_CARS', 'source_FACEBOOK', 'source_GOOGLE_PLACES',\n",
    "       'year']]\n"
   ]
  },
  {
   "cell_type": "code",
   "execution_count": 55,
   "metadata": {},
   "outputs": [],
   "source": [
    "#output variable\n",
    "Y=dfn['rating']"
   ]
  },
  {
   "cell_type": "code",
   "execution_count": 56,
   "metadata": {},
   "outputs": [],
   "source": [
    "#train(70%) test(30%) split\n",
    "from sklearn.model_selection import train_test_split\n",
    "X_sample, X_test, y_sample, y_test = train_test_split(X,Y,test_size=0.3,random_state=101)"
   ]
  },
  {
   "cell_type": "code",
   "execution_count": 57,
   "metadata": {},
   "outputs": [],
   "source": [
    "#SMOTE sampling training data\n",
    "from imblearn.over_sampling import SMOTE\n",
    "X_train, y_train = SMOTE().fit_sample(X_sample, y_sample)"
   ]
  },
  {
   "cell_type": "code",
   "execution_count": 58,
   "metadata": {},
   "outputs": [
    {
     "name": "stdout",
     "output_type": "stream",
     "text": [
      "Resampled dataset shape Counter({5.0: 97954, 3.0: 97954, 1.0: 97954, 4.0: 97954, 2.0: 97954})\n"
     ]
    }
   ],
   "source": [
    "# Resampled dataset shape\n",
    "from collections import Counter\n",
    "print('Resampled dataset shape %s' % Counter(y_train))"
   ]
  },
  {
   "cell_type": "code",
   "execution_count": 61,
   "metadata": {},
   "outputs": [
    {
     "name": "stdout",
     "output_type": "stream",
     "text": [
      "Accuracy of train set: 0.198\n",
      "Accuracy of test set: 0.024\n"
     ]
    }
   ],
   "source": [
    "# Model Selection\n",
    "#logistic regression\n",
    "\n",
    "#Model bulding and prediction\n",
    "from sklearn import linear_model\n",
    "gb2 = linear_model.LogisticRegressionCV()\n",
    "gb2.fit(X_train, y_train)\n",
    "\n",
    "#train test accuracy\n",
    "print(\"Accuracy of train set: {:.3f}\".format(gb2.score(X_train, y_train)))\n",
    "print(\"Accuracy of test set: {:.3f}\".format(gb2.score(X_test, y_test)))"
   ]
  },
  {
   "cell_type": "code",
   "execution_count": 60,
   "metadata": {},
   "outputs": [
    {
     "name": "stdout",
     "output_type": "stream",
     "text": [
      "Confusion Matrix:\n",
      "[[    0   457  5003    34     0]\n",
      " [    0    88  1000     5     0]\n",
      " [    0   123  1152    13     0]\n",
      " [    0   331  3645    48     0]\n",
      " [    0  3393 38179   312     0]]\n",
      "\n",
      "Classification Report\n",
      "             precision    recall  f1-score   support\n",
      "\n",
      "        1.0       0.00      0.00      0.00      5494\n",
      "        2.0       0.02      0.08      0.03      1093\n",
      "        3.0       0.02      0.89      0.05      1288\n",
      "        4.0       0.12      0.01      0.02      4024\n",
      "        5.0       0.00      0.00      0.00     41884\n",
      "\n",
      "avg / total       0.01      0.02      0.00     53783\n",
      "\n"
     ]
    },
    {
     "name": "stderr",
     "output_type": "stream",
     "text": [
      "C:\\Users\\thima\\Anaconda3\\lib\\site-packages\\sklearn\\metrics\\classification.py:1135: UndefinedMetricWarning: Precision and F-score are ill-defined and being set to 0.0 in labels with no predicted samples.\n",
      "  'precision', 'predicted', average, warn_for)\n"
     ]
    }
   ],
   "source": [
    "#performance metrics\n",
    "from sklearn.metrics import classification_report, confusion_matrix, roc_curve, auc\n",
    "predictions = gb2.predict(X_test)\n",
    "print(\"Confusion Matrix:\")\n",
    "print(confusion_matrix(y_test, predictions))\n",
    "print()\n",
    "print(\"Classification Report\")\n",
    "print(classification_report(y_test, predictions))\n",
    "#We leave logistic regression as we have low precision, recalll and F1 score. Also, lower accuracy"
   ]
  },
  {
   "cell_type": "code",
   "execution_count": 62,
   "metadata": {},
   "outputs": [
    {
     "name": "stdout",
     "output_type": "stream",
     "text": [
      "Accuracy of train set: 0.299\n",
      "Accuracy of test set: 0.257\n"
     ]
    }
   ],
   "source": [
    "# Model Selection\n",
    "#Decision Tree\n",
    "\n",
    "#Model bulding and prediction\n",
    " \n",
    "from sklearn import tree\n",
    "gb3 = tree.DecisionTreeClassifier(max_depth=3)\n",
    "gb3.fit(X_train, y_train)\n",
    "#forest.fit(X_regtrain, y_regtrain)\n",
    "print(\"Accuracy of train set: {:.3f}\".format(gb3.score(X_train, y_train)))\n",
    "print(\"Accuracy of test set: {:.3f}\".format(gb3.score(X_test, y_test)))"
   ]
  },
  {
   "cell_type": "code",
   "execution_count": 63,
   "metadata": {},
   "outputs": [
    {
     "name": "stdout",
     "output_type": "stream",
     "text": [
      "Confusion Matrix:\n",
      "[[ 1355     0  3757     0   382]\n",
      " [  174     0   833     0    86]\n",
      " [  151     0  1051     0    86]\n",
      " [  407     0  2763     0   854]\n",
      " [ 5905     0 24560     0 11419]]\n",
      "\n",
      "Classification Report\n",
      "             precision    recall  f1-score   support\n",
      "\n",
      "        1.0       0.17      0.25      0.20      5494\n",
      "        2.0       0.00      0.00      0.00      1093\n",
      "        3.0       0.03      0.82      0.06      1288\n",
      "        4.0       0.00      0.00      0.00      4024\n",
      "        5.0       0.89      0.27      0.42     41884\n",
      "\n",
      "avg / total       0.71      0.26      0.35     53783\n",
      "\n"
     ]
    },
    {
     "name": "stderr",
     "output_type": "stream",
     "text": [
      "C:\\Users\\thima\\Anaconda3\\lib\\site-packages\\sklearn\\metrics\\classification.py:1135: UndefinedMetricWarning: Precision and F-score are ill-defined and being set to 0.0 in labels with no predicted samples.\n",
      "  'precision', 'predicted', average, warn_for)\n"
     ]
    }
   ],
   "source": [
    "#performance metrics\n",
    "predictions = gb3.predict(X_test)\n",
    "print(\"Confusion Matrix:\")\n",
    "print(confusion_matrix(y_test, predictions))\n",
    "print()\n",
    "print(\"Classification Report\")\n",
    "print(classification_report(y_test, predictions))\n",
    "# we get decent results, but we further explore other models"
   ]
  },
  {
   "cell_type": "code",
   "execution_count": null,
   "metadata": {},
   "outputs": [],
   "source": [
    "#Gradient Boosting\n",
    "\n",
    "#gb = GradientBoostingClassifier(verbose=True)\n",
    "#param_grid = {'learning_rate': [0.1, 0.05, 0.02, 0.01],\n",
    "#              'max_depth': [4, 6, 8],\n",
    "#              'min_samples_leaf': [20, 50,100,150],\n",
    "#              'max_features': [1.0, 0.3, 0.1],\n",
    "#              'n_estimators':[70,100,120,150]} \n",
    "#grid_search = GridSearchCV(gb, param_grid, cv=5)\n",
    "#grid_search.fit(X_train, y_train)\n",
    "#print(\"Best parameters: {}\".format(grid_search.best_params_))\n",
    "#print(\"Best cross-validation score {:.2f}\".format(grid_search.best_score_))"
   ]
  },
  {
   "cell_type": "code",
   "execution_count": 65,
   "metadata": {},
   "outputs": [
    {
     "name": "stderr",
     "output_type": "stream",
     "text": [
      "C:\\Users\\thima\\Anaconda3\\lib\\site-packages\\sklearn\\ensemble\\weight_boosting.py:29: DeprecationWarning: numpy.core.umath_tests is an internal NumPy module and should not be imported. It will be removed in a future NumPy release.\n",
      "  from numpy.core.umath_tests import inner1d\n",
      "C:\\Users\\thima\\Anaconda3\\lib\\site-packages\\sklearn\\cross_validation.py:41: DeprecationWarning: This module was deprecated in version 0.18 in favor of the model_selection module into which all the refactored classes and functions are moved. Also note that the interface of the new CV iterators are different from that of this module. This module will be removed in 0.20.\n",
      "  \"This module will be removed in 0.20.\", DeprecationWarning)\n",
      "C:\\Users\\thima\\Anaconda3\\lib\\site-packages\\sklearn\\grid_search.py:42: DeprecationWarning: This module was deprecated in version 0.18 in favor of the model_selection module into which all the refactored classes and functions are moved. This module will be removed in 0.20.\n",
      "  DeprecationWarning)\n"
     ]
    },
    {
     "name": "stdout",
     "output_type": "stream",
     "text": [
      "      Iter       Train Loss   Remaining Time \n",
      "         1      776923.2620            4.74m\n",
      "         2      767461.6235            4.60m\n",
      "         3      759031.3518            4.74m\n",
      "         4      752873.2085            4.61m\n",
      "         5      747251.8348            4.47m\n",
      "         6      741685.2245            4.43m\n",
      "         7      736513.1152            4.42m\n",
      "         8      731845.4850            4.46m\n",
      "         9      728927.1701            4.44m\n",
      "        10      725538.0921            4.38m\n",
      "        20      703212.3558            3.95m\n",
      "        30      690902.5484            3.44m\n",
      "        40      683610.6981            2.91m\n",
      "        50      677072.4343            2.45m\n",
      "        60      670576.3774            1.99m\n",
      "        70      666202.3610            1.49m\n",
      "        80      661863.2124           59.63s\n",
      "        90      658204.6877           29.99s\n",
      "       100      654603.5666            0.00s\n",
      "Accuracy of train set: 0.406\n",
      "Accuracy of test set: 0.371\n"
     ]
    }
   ],
   "source": [
    "# Model Selection\n",
    "#Gradient boosting\n",
    "\n",
    "#Model bulding and prediction\n",
    "from sklearn.ensemble import GradientBoostingClassifier\n",
    "from sklearn.metrics import classification_report, confusion_matrix, roc_curve, auc\n",
    "from sklearn.grid_search import GridSearchCV\n",
    "gb = GradientBoostingClassifier(learning_rate=0.1,max_depth=6,min_samples_leaf=15,\n",
    "        max_features=0.3,n_estimators=100,verbose=True)\n",
    "gb.fit(X_train, y_train)\n",
    "#forest.fit(X_regtrain, y_regtrain)\n",
    "print(\"Accuracy of train set: {:.3f}\".format(gb.score(X_train, y_train)))\n",
    "print(\"Accuracy of test set: {:.3f}\".format(gb.score(X_test, y_test)))"
   ]
  },
  {
   "cell_type": "code",
   "execution_count": 66,
   "metadata": {},
   "outputs": [
    {
     "name": "stdout",
     "output_type": "stream",
     "text": [
      "Confusion Matrix:\n",
      "[[ 2656    50  1265   597   926]\n",
      " [  406    13   323   161   190]\n",
      " [  341    17   470   255   205]\n",
      " [  987    34  1144   763  1096]\n",
      " [10671   347  8812  5988 16066]]\n",
      "\n",
      "Classification Report\n",
      "             precision    recall  f1-score   support\n",
      "\n",
      "        1.0       0.18      0.48      0.26      5494\n",
      "        2.0       0.03      0.01      0.02      1093\n",
      "        3.0       0.04      0.36      0.07      1288\n",
      "        4.0       0.10      0.19      0.13      4024\n",
      "        5.0       0.87      0.38      0.53     41884\n",
      "\n",
      "avg / total       0.70      0.37      0.45     53783\n",
      "\n"
     ]
    }
   ],
   "source": [
    "#performance metrics\n",
    "predictions = gb.predict(X_test)\n",
    "print(\"Confusion Matrix:\")\n",
    "print(confusion_matrix(y_test, predictions))\n",
    "print()\n",
    "print(\"Classification Report\")\n",
    "print(classification_report(y_test, predictions))"
   ]
  },
  {
   "cell_type": "code",
   "execution_count": 67,
   "metadata": {},
   "outputs": [],
   "source": [
    "#Load test reviews file\n",
    "dft = pd.read_csv('C:/Users/thima/Desktop/sahil/test_reviews.csv')\n",
    "#data preparation\n",
    "dft = dft.drop(['rating'], axis=1)\n",
    "dft = dft[pd.notnull(dft['location_id'])]"
   ]
  },
  {
   "cell_type": "code",
   "execution_count": 68,
   "metadata": {},
   "outputs": [],
   "source": [
    "#create data copy\n",
    "dftest = dft.copy()"
   ]
  },
  {
   "cell_type": "code",
   "execution_count": 69,
   "metadata": {},
   "outputs": [
    {
     "data": {
      "text/plain": [
       "array(['location_id', 'review_id', 'date', 'year', 'source_CARS',\n",
       "       'source_FACEBOOK', 'source_GOOGLE_PLACES'], dtype=object)"
      ]
     },
     "execution_count": 69,
     "metadata": {},
     "output_type": "execute_result"
    }
   ],
   "source": [
    "#extract year from data\n",
    "dftest['year'] = pd.DatetimeIndex(dftest['date']).year\n",
    "\n",
    "#create dummy for source column\n",
    "cat_vars=['source']\n",
    "for var in cat_vars:\n",
    "    cat_list='var'+'_'+var\n",
    "    cat_list = pd.get_dummies(dftest[var], prefix=var)\n",
    "    dfxx=dftest.join(cat_list)\n",
    "    dftest=dfxx\n",
    "cat_vars=['source']\n",
    "data_vars=dftest.columns.values.tolist()\n",
    "to_keep=[i for i in data_vars if i not in cat_vars]\n",
    "dfzz=dftest[to_keep]\n",
    "dfzz.columns.values"
   ]
  },
  {
   "cell_type": "code",
   "execution_count": 70,
   "metadata": {},
   "outputs": [],
   "source": [
    "#predictors\n",
    "Xtest = dfzz[['location_id', 'source_CARS', 'source_FACEBOOK', 'source_GOOGLE_PLACES',\n",
    "       'year']]"
   ]
  },
  {
   "cell_type": "code",
   "execution_count": 72,
   "metadata": {},
   "outputs": [],
   "source": [
    "predictions2 = gb.predict(Xtest)"
   ]
  },
  {
   "cell_type": "code",
   "execution_count": 73,
   "metadata": {},
   "outputs": [],
   "source": [
    "dft['rating'] = predictions2"
   ]
  },
  {
   "cell_type": "code",
   "execution_count": 74,
   "metadata": {},
   "outputs": [
    {
     "data": {
      "text/html": [
       "<div>\n",
       "<style scoped>\n",
       "    .dataframe tbody tr th:only-of-type {\n",
       "        vertical-align: middle;\n",
       "    }\n",
       "\n",
       "    .dataframe tbody tr th {\n",
       "        vertical-align: top;\n",
       "    }\n",
       "\n",
       "    .dataframe thead th {\n",
       "        text-align: right;\n",
       "    }\n",
       "</style>\n",
       "<table border=\"1\" class=\"dataframe\">\n",
       "  <thead>\n",
       "    <tr style=\"text-align: right;\">\n",
       "      <th></th>\n",
       "      <th>location_id</th>\n",
       "      <th>review_id</th>\n",
       "      <th>source</th>\n",
       "      <th>date</th>\n",
       "      <th>rating</th>\n",
       "    </tr>\n",
       "  </thead>\n",
       "  <tbody>\n",
       "    <tr>\n",
       "      <th>0</th>\n",
       "      <td>4962_147</td>\n",
       "      <td>test_10368849285</td>\n",
       "      <td>FACEBOOK</td>\n",
       "      <td>12/4/15</td>\n",
       "      <td>1.0</td>\n",
       "    </tr>\n",
       "    <tr>\n",
       "      <th>1</th>\n",
       "      <td>4962_147</td>\n",
       "      <td>test_1042394214</td>\n",
       "      <td>FACEBOOK</td>\n",
       "      <td>11/29/16</td>\n",
       "      <td>1.0</td>\n",
       "    </tr>\n",
       "    <tr>\n",
       "      <th>2</th>\n",
       "      <td>4962_185</td>\n",
       "      <td>test_11322162891</td>\n",
       "      <td>GOOGLE_PLACES</td>\n",
       "      <td>8/3/16</td>\n",
       "      <td>1.0</td>\n",
       "    </tr>\n",
       "    <tr>\n",
       "      <th>3</th>\n",
       "      <td>4962_185</td>\n",
       "      <td>test_11324660949</td>\n",
       "      <td>GOOGLE_PLACES</td>\n",
       "      <td>2/3/18</td>\n",
       "      <td>4.0</td>\n",
       "    </tr>\n",
       "    <tr>\n",
       "      <th>4</th>\n",
       "      <td>4962_185</td>\n",
       "      <td>test_11348252095</td>\n",
       "      <td>GOOGLE_PLACES</td>\n",
       "      <td>2/12/16</td>\n",
       "      <td>1.0</td>\n",
       "    </tr>\n",
       "    <tr>\n",
       "      <th>5</th>\n",
       "      <td>4962_185</td>\n",
       "      <td>test_1137850456</td>\n",
       "      <td>GOOGLE_PLACES</td>\n",
       "      <td>2/12/18</td>\n",
       "      <td>4.0</td>\n",
       "    </tr>\n",
       "    <tr>\n",
       "      <th>6</th>\n",
       "      <td>4962_185</td>\n",
       "      <td>test_1142750998</td>\n",
       "      <td>GOOGLE_PLACES</td>\n",
       "      <td>10/15/15</td>\n",
       "      <td>1.0</td>\n",
       "    </tr>\n",
       "    <tr>\n",
       "      <th>7</th>\n",
       "      <td>4962_185</td>\n",
       "      <td>test_11459350091</td>\n",
       "      <td>GOOGLE_PLACES</td>\n",
       "      <td>2/15/18</td>\n",
       "      <td>4.0</td>\n",
       "    </tr>\n",
       "    <tr>\n",
       "      <th>8</th>\n",
       "      <td>4962_185</td>\n",
       "      <td>test_11485163368</td>\n",
       "      <td>GOOGLE_PLACES</td>\n",
       "      <td>9/15/17</td>\n",
       "      <td>3.0</td>\n",
       "    </tr>\n",
       "    <tr>\n",
       "      <th>9</th>\n",
       "      <td>4962_185</td>\n",
       "      <td>test_11486603498</td>\n",
       "      <td>CARS</td>\n",
       "      <td>11/4/17</td>\n",
       "      <td>5.0</td>\n",
       "    </tr>\n",
       "    <tr>\n",
       "      <th>10</th>\n",
       "      <td>4962_185</td>\n",
       "      <td>test_17964742745</td>\n",
       "      <td>CARS</td>\n",
       "      <td>4/16/14</td>\n",
       "      <td>5.0</td>\n",
       "    </tr>\n",
       "    <tr>\n",
       "      <th>11</th>\n",
       "      <td>4962_185</td>\n",
       "      <td>test_17992523328</td>\n",
       "      <td>GOOGLE_PLACES</td>\n",
       "      <td>12/12/17</td>\n",
       "      <td>3.0</td>\n",
       "    </tr>\n",
       "    <tr>\n",
       "      <th>12</th>\n",
       "      <td>4962_185</td>\n",
       "      <td>test_18009881800</td>\n",
       "      <td>GOOGLE_PLACES</td>\n",
       "      <td>11/28/15</td>\n",
       "      <td>1.0</td>\n",
       "    </tr>\n",
       "    <tr>\n",
       "      <th>13</th>\n",
       "      <td>4962_185</td>\n",
       "      <td>test_1857096164</td>\n",
       "      <td>GOOGLE_PLACES</td>\n",
       "      <td>5/30/17</td>\n",
       "      <td>3.0</td>\n",
       "    </tr>\n",
       "    <tr>\n",
       "      <th>14</th>\n",
       "      <td>4962_221</td>\n",
       "      <td>test_18893344113</td>\n",
       "      <td>GOOGLE_PLACES</td>\n",
       "      <td>3/16/18</td>\n",
       "      <td>4.0</td>\n",
       "    </tr>\n",
       "    <tr>\n",
       "      <th>15</th>\n",
       "      <td>4962_147</td>\n",
       "      <td>test_24122188414</td>\n",
       "      <td>CARS</td>\n",
       "      <td>7/10/15</td>\n",
       "      <td>5.0</td>\n",
       "    </tr>\n",
       "    <tr>\n",
       "      <th>16</th>\n",
       "      <td>4962_147</td>\n",
       "      <td>test_24135649174</td>\n",
       "      <td>GOOGLE_PLACES</td>\n",
       "      <td>5/21/15</td>\n",
       "      <td>1.0</td>\n",
       "    </tr>\n",
       "    <tr>\n",
       "      <th>17</th>\n",
       "      <td>4962_221</td>\n",
       "      <td>test_2628136052</td>\n",
       "      <td>GOOGLE_PLACES</td>\n",
       "      <td>3/13/18</td>\n",
       "      <td>4.0</td>\n",
       "    </tr>\n",
       "    <tr>\n",
       "      <th>18</th>\n",
       "      <td>4962_147</td>\n",
       "      <td>test_26898541204</td>\n",
       "      <td>GOOGLE_PLACES</td>\n",
       "      <td>7/5/16</td>\n",
       "      <td>1.0</td>\n",
       "    </tr>\n",
       "    <tr>\n",
       "      <th>19</th>\n",
       "      <td>4962_147</td>\n",
       "      <td>test_26920236280</td>\n",
       "      <td>GOOGLE_PLACES</td>\n",
       "      <td>3/14/18</td>\n",
       "      <td>4.0</td>\n",
       "    </tr>\n",
       "    <tr>\n",
       "      <th>20</th>\n",
       "      <td>4962_147</td>\n",
       "      <td>test_26921896932</td>\n",
       "      <td>GOOGLE_PLACES</td>\n",
       "      <td>5/17/15</td>\n",
       "      <td>1.0</td>\n",
       "    </tr>\n",
       "    <tr>\n",
       "      <th>21</th>\n",
       "      <td>4962_221</td>\n",
       "      <td>test_28040912557</td>\n",
       "      <td>FACEBOOK</td>\n",
       "      <td>11/12/15</td>\n",
       "      <td>1.0</td>\n",
       "    </tr>\n",
       "    <tr>\n",
       "      <th>22</th>\n",
       "      <td>4962_221</td>\n",
       "      <td>test_28060238984</td>\n",
       "      <td>GOOGLE_PLACES</td>\n",
       "      <td>8/6/17</td>\n",
       "      <td>3.0</td>\n",
       "    </tr>\n",
       "    <tr>\n",
       "      <th>23</th>\n",
       "      <td>4962_221</td>\n",
       "      <td>test_28070647126</td>\n",
       "      <td>FACEBOOK</td>\n",
       "      <td>4/27/15</td>\n",
       "      <td>1.0</td>\n",
       "    </tr>\n",
       "    <tr>\n",
       "      <th>24</th>\n",
       "      <td>4962_221</td>\n",
       "      <td>test_28092458176</td>\n",
       "      <td>GOOGLE_PLACES</td>\n",
       "      <td>7/24/17</td>\n",
       "      <td>3.0</td>\n",
       "    </tr>\n",
       "    <tr>\n",
       "      <th>25</th>\n",
       "      <td>4962_147</td>\n",
       "      <td>test_2906173207</td>\n",
       "      <td>GOOGLE_PLACES</td>\n",
       "      <td>5/16/14</td>\n",
       "      <td>5.0</td>\n",
       "    </tr>\n",
       "    <tr>\n",
       "      <th>26</th>\n",
       "      <td>4962_147</td>\n",
       "      <td>test_2907348469</td>\n",
       "      <td>GOOGLE_PLACES</td>\n",
       "      <td>4/15/16</td>\n",
       "      <td>1.0</td>\n",
       "    </tr>\n",
       "    <tr>\n",
       "      <th>27</th>\n",
       "      <td>4962_147</td>\n",
       "      <td>test_29142590895</td>\n",
       "      <td>GOOGLE_PLACES</td>\n",
       "      <td>2/13/18</td>\n",
       "      <td>4.0</td>\n",
       "    </tr>\n",
       "    <tr>\n",
       "      <th>28</th>\n",
       "      <td>4962_221</td>\n",
       "      <td>test_29329333361</td>\n",
       "      <td>FACEBOOK</td>\n",
       "      <td>11/24/17</td>\n",
       "      <td>1.0</td>\n",
       "    </tr>\n",
       "    <tr>\n",
       "      <th>29</th>\n",
       "      <td>4962_221</td>\n",
       "      <td>test_30076565343</td>\n",
       "      <td>FACEBOOK</td>\n",
       "      <td>11/18/15</td>\n",
       "      <td>1.0</td>\n",
       "    </tr>\n",
       "    <tr>\n",
       "      <th>...</th>\n",
       "      <td>...</td>\n",
       "      <td>...</td>\n",
       "      <td>...</td>\n",
       "      <td>...</td>\n",
       "      <td>...</td>\n",
       "    </tr>\n",
       "    <tr>\n",
       "      <th>1357</th>\n",
       "      <td>4962_185</td>\n",
       "      <td>test_6586347903</td>\n",
       "      <td>FACEBOOK</td>\n",
       "      <td>3/18/14</td>\n",
       "      <td>1.0</td>\n",
       "    </tr>\n",
       "    <tr>\n",
       "      <th>1358</th>\n",
       "      <td>4962_185</td>\n",
       "      <td>test_6587716095</td>\n",
       "      <td>FACEBOOK</td>\n",
       "      <td>11/18/16</td>\n",
       "      <td>1.0</td>\n",
       "    </tr>\n",
       "    <tr>\n",
       "      <th>1359</th>\n",
       "      <td>4962_185</td>\n",
       "      <td>test_6609772598</td>\n",
       "      <td>FACEBOOK</td>\n",
       "      <td>1/9/14</td>\n",
       "      <td>1.0</td>\n",
       "    </tr>\n",
       "    <tr>\n",
       "      <th>1360</th>\n",
       "      <td>4962_185</td>\n",
       "      <td>test_6610641718</td>\n",
       "      <td>FACEBOOK</td>\n",
       "      <td>3/2/17</td>\n",
       "      <td>1.0</td>\n",
       "    </tr>\n",
       "    <tr>\n",
       "      <th>1361</th>\n",
       "      <td>4962_185</td>\n",
       "      <td>test_6611126265</td>\n",
       "      <td>FACEBOOK</td>\n",
       "      <td>11/2/16</td>\n",
       "      <td>1.0</td>\n",
       "    </tr>\n",
       "    <tr>\n",
       "      <th>1362</th>\n",
       "      <td>4962_185</td>\n",
       "      <td>test_663916044</td>\n",
       "      <td>FACEBOOK</td>\n",
       "      <td>6/25/14</td>\n",
       "      <td>1.0</td>\n",
       "    </tr>\n",
       "    <tr>\n",
       "      <th>1363</th>\n",
       "      <td>4962_185</td>\n",
       "      <td>test_6640583638</td>\n",
       "      <td>FACEBOOK</td>\n",
       "      <td>11/12/16</td>\n",
       "      <td>1.0</td>\n",
       "    </tr>\n",
       "    <tr>\n",
       "      <th>1364</th>\n",
       "      <td>4962_185</td>\n",
       "      <td>test_6664214635</td>\n",
       "      <td>FACEBOOK</td>\n",
       "      <td>3/15/17</td>\n",
       "      <td>1.0</td>\n",
       "    </tr>\n",
       "    <tr>\n",
       "      <th>1365</th>\n",
       "      <td>4962_185</td>\n",
       "      <td>test_6665663840</td>\n",
       "      <td>FACEBOOK</td>\n",
       "      <td>9/21/14</td>\n",
       "      <td>1.0</td>\n",
       "    </tr>\n",
       "    <tr>\n",
       "      <th>1366</th>\n",
       "      <td>4962_185</td>\n",
       "      <td>test_6666906837</td>\n",
       "      <td>FACEBOOK</td>\n",
       "      <td>10/11/14</td>\n",
       "      <td>1.0</td>\n",
       "    </tr>\n",
       "    <tr>\n",
       "      <th>1367</th>\n",
       "      <td>4962_185</td>\n",
       "      <td>test_6692784713</td>\n",
       "      <td>FACEBOOK</td>\n",
       "      <td>1/2/14</td>\n",
       "      <td>1.0</td>\n",
       "    </tr>\n",
       "    <tr>\n",
       "      <th>1368</th>\n",
       "      <td>4962_185</td>\n",
       "      <td>test_6693654471</td>\n",
       "      <td>FACEBOOK</td>\n",
       "      <td>10/10/17</td>\n",
       "      <td>1.0</td>\n",
       "    </tr>\n",
       "    <tr>\n",
       "      <th>1369</th>\n",
       "      <td>4962_185</td>\n",
       "      <td>test_8055443349</td>\n",
       "      <td>FACEBOOK</td>\n",
       "      <td>9/5/14</td>\n",
       "      <td>1.0</td>\n",
       "    </tr>\n",
       "    <tr>\n",
       "      <th>1370</th>\n",
       "      <td>4962_185</td>\n",
       "      <td>test_8056901</td>\n",
       "      <td>FACEBOOK</td>\n",
       "      <td>6/15/14</td>\n",
       "      <td>1.0</td>\n",
       "    </tr>\n",
       "    <tr>\n",
       "      <th>1371</th>\n",
       "      <td>4962_185</td>\n",
       "      <td>test_8057885840</td>\n",
       "      <td>FACEBOOK</td>\n",
       "      <td>7/29/15</td>\n",
       "      <td>1.0</td>\n",
       "    </tr>\n",
       "    <tr>\n",
       "      <th>1372</th>\n",
       "      <td>4962_185</td>\n",
       "      <td>test_8081828888</td>\n",
       "      <td>FACEBOOK</td>\n",
       "      <td>2/18/15</td>\n",
       "      <td>1.0</td>\n",
       "    </tr>\n",
       "    <tr>\n",
       "      <th>1373</th>\n",
       "      <td>4962_185</td>\n",
       "      <td>test_8082456099</td>\n",
       "      <td>FACEBOOK</td>\n",
       "      <td>4/12/17</td>\n",
       "      <td>1.0</td>\n",
       "    </tr>\n",
       "    <tr>\n",
       "      <th>1374</th>\n",
       "      <td>4962_185</td>\n",
       "      <td>test_8110416451</td>\n",
       "      <td>FACEBOOK</td>\n",
       "      <td>8/6/15</td>\n",
       "      <td>1.0</td>\n",
       "    </tr>\n",
       "    <tr>\n",
       "      <th>1375</th>\n",
       "      <td>4962_185</td>\n",
       "      <td>test_811153600</td>\n",
       "      <td>FACEBOOK</td>\n",
       "      <td>12/26/15</td>\n",
       "      <td>1.0</td>\n",
       "    </tr>\n",
       "    <tr>\n",
       "      <th>1376</th>\n",
       "      <td>4962_185</td>\n",
       "      <td>test_8138884842</td>\n",
       "      <td>FACEBOOK</td>\n",
       "      <td>6/20/14</td>\n",
       "      <td>1.0</td>\n",
       "    </tr>\n",
       "    <tr>\n",
       "      <th>1377</th>\n",
       "      <td>4962_185</td>\n",
       "      <td>test_8139376820</td>\n",
       "      <td>FACEBOOK</td>\n",
       "      <td>8/28/16</td>\n",
       "      <td>1.0</td>\n",
       "    </tr>\n",
       "    <tr>\n",
       "      <th>1378</th>\n",
       "      <td>4962_185</td>\n",
       "      <td>test_816566639</td>\n",
       "      <td>FACEBOOK</td>\n",
       "      <td>12/23/14</td>\n",
       "      <td>1.0</td>\n",
       "    </tr>\n",
       "    <tr>\n",
       "      <th>1379</th>\n",
       "      <td>4962_185</td>\n",
       "      <td>test_8166200617</td>\n",
       "      <td>FACEBOOK</td>\n",
       "      <td>2/20/17</td>\n",
       "      <td>1.0</td>\n",
       "    </tr>\n",
       "    <tr>\n",
       "      <th>1380</th>\n",
       "      <td>4962_185</td>\n",
       "      <td>test_8167830411</td>\n",
       "      <td>FACEBOOK</td>\n",
       "      <td>1/29/17</td>\n",
       "      <td>1.0</td>\n",
       "    </tr>\n",
       "    <tr>\n",
       "      <th>1381</th>\n",
       "      <td>4962_185</td>\n",
       "      <td>test_8191533222</td>\n",
       "      <td>FACEBOOK</td>\n",
       "      <td>3/2/16</td>\n",
       "      <td>1.0</td>\n",
       "    </tr>\n",
       "    <tr>\n",
       "      <th>1382</th>\n",
       "      <td>4962_185</td>\n",
       "      <td>test_8192867949</td>\n",
       "      <td>FACEBOOK</td>\n",
       "      <td>11/10/17</td>\n",
       "      <td>1.0</td>\n",
       "    </tr>\n",
       "    <tr>\n",
       "      <th>1383</th>\n",
       "      <td>4962_185</td>\n",
       "      <td>test_8193238229</td>\n",
       "      <td>FACEBOOK</td>\n",
       "      <td>11/18/16</td>\n",
       "      <td>1.0</td>\n",
       "    </tr>\n",
       "    <tr>\n",
       "      <th>1384</th>\n",
       "      <td>4962_185</td>\n",
       "      <td>test_8218201172</td>\n",
       "      <td>FACEBOOK</td>\n",
       "      <td>7/19/16</td>\n",
       "      <td>1.0</td>\n",
       "    </tr>\n",
       "    <tr>\n",
       "      <th>1385</th>\n",
       "      <td>4962_185</td>\n",
       "      <td>test_8219378940</td>\n",
       "      <td>FACEBOOK</td>\n",
       "      <td>12/4/17</td>\n",
       "      <td>1.0</td>\n",
       "    </tr>\n",
       "    <tr>\n",
       "      <th>1386</th>\n",
       "      <td>4962_185</td>\n",
       "      <td>test_8245807617</td>\n",
       "      <td>FACEBOOK</td>\n",
       "      <td>1/23/14</td>\n",
       "      <td>1.0</td>\n",
       "    </tr>\n",
       "  </tbody>\n",
       "</table>\n",
       "<p>1124 rows × 5 columns</p>\n",
       "</div>"
      ],
      "text/plain": [
       "     location_id         review_id         source      date  rating\n",
       "0       4962_147  test_10368849285       FACEBOOK   12/4/15     1.0\n",
       "1       4962_147   test_1042394214       FACEBOOK  11/29/16     1.0\n",
       "2       4962_185  test_11322162891  GOOGLE_PLACES    8/3/16     1.0\n",
       "3       4962_185  test_11324660949  GOOGLE_PLACES    2/3/18     4.0\n",
       "4       4962_185  test_11348252095  GOOGLE_PLACES   2/12/16     1.0\n",
       "5       4962_185   test_1137850456  GOOGLE_PLACES   2/12/18     4.0\n",
       "6       4962_185   test_1142750998  GOOGLE_PLACES  10/15/15     1.0\n",
       "7       4962_185  test_11459350091  GOOGLE_PLACES   2/15/18     4.0\n",
       "8       4962_185  test_11485163368  GOOGLE_PLACES   9/15/17     3.0\n",
       "9       4962_185  test_11486603498           CARS   11/4/17     5.0\n",
       "10      4962_185  test_17964742745           CARS   4/16/14     5.0\n",
       "11      4962_185  test_17992523328  GOOGLE_PLACES  12/12/17     3.0\n",
       "12      4962_185  test_18009881800  GOOGLE_PLACES  11/28/15     1.0\n",
       "13      4962_185   test_1857096164  GOOGLE_PLACES   5/30/17     3.0\n",
       "14      4962_221  test_18893344113  GOOGLE_PLACES   3/16/18     4.0\n",
       "15      4962_147  test_24122188414           CARS   7/10/15     5.0\n",
       "16      4962_147  test_24135649174  GOOGLE_PLACES   5/21/15     1.0\n",
       "17      4962_221   test_2628136052  GOOGLE_PLACES   3/13/18     4.0\n",
       "18      4962_147  test_26898541204  GOOGLE_PLACES    7/5/16     1.0\n",
       "19      4962_147  test_26920236280  GOOGLE_PLACES   3/14/18     4.0\n",
       "20      4962_147  test_26921896932  GOOGLE_PLACES   5/17/15     1.0\n",
       "21      4962_221  test_28040912557       FACEBOOK  11/12/15     1.0\n",
       "22      4962_221  test_28060238984  GOOGLE_PLACES    8/6/17     3.0\n",
       "23      4962_221  test_28070647126       FACEBOOK   4/27/15     1.0\n",
       "24      4962_221  test_28092458176  GOOGLE_PLACES   7/24/17     3.0\n",
       "25      4962_147   test_2906173207  GOOGLE_PLACES   5/16/14     5.0\n",
       "26      4962_147   test_2907348469  GOOGLE_PLACES   4/15/16     1.0\n",
       "27      4962_147  test_29142590895  GOOGLE_PLACES   2/13/18     4.0\n",
       "28      4962_221  test_29329333361       FACEBOOK  11/24/17     1.0\n",
       "29      4962_221  test_30076565343       FACEBOOK  11/18/15     1.0\n",
       "...          ...               ...            ...       ...     ...\n",
       "1357    4962_185   test_6586347903       FACEBOOK   3/18/14     1.0\n",
       "1358    4962_185   test_6587716095       FACEBOOK  11/18/16     1.0\n",
       "1359    4962_185   test_6609772598       FACEBOOK    1/9/14     1.0\n",
       "1360    4962_185   test_6610641718       FACEBOOK    3/2/17     1.0\n",
       "1361    4962_185   test_6611126265       FACEBOOK   11/2/16     1.0\n",
       "1362    4962_185    test_663916044       FACEBOOK   6/25/14     1.0\n",
       "1363    4962_185   test_6640583638       FACEBOOK  11/12/16     1.0\n",
       "1364    4962_185   test_6664214635       FACEBOOK   3/15/17     1.0\n",
       "1365    4962_185   test_6665663840       FACEBOOK   9/21/14     1.0\n",
       "1366    4962_185   test_6666906837       FACEBOOK  10/11/14     1.0\n",
       "1367    4962_185   test_6692784713       FACEBOOK    1/2/14     1.0\n",
       "1368    4962_185   test_6693654471       FACEBOOK  10/10/17     1.0\n",
       "1369    4962_185   test_8055443349       FACEBOOK    9/5/14     1.0\n",
       "1370    4962_185      test_8056901       FACEBOOK   6/15/14     1.0\n",
       "1371    4962_185   test_8057885840       FACEBOOK   7/29/15     1.0\n",
       "1372    4962_185   test_8081828888       FACEBOOK   2/18/15     1.0\n",
       "1373    4962_185   test_8082456099       FACEBOOK   4/12/17     1.0\n",
       "1374    4962_185   test_8110416451       FACEBOOK    8/6/15     1.0\n",
       "1375    4962_185    test_811153600       FACEBOOK  12/26/15     1.0\n",
       "1376    4962_185   test_8138884842       FACEBOOK   6/20/14     1.0\n",
       "1377    4962_185   test_8139376820       FACEBOOK   8/28/16     1.0\n",
       "1378    4962_185    test_816566639       FACEBOOK  12/23/14     1.0\n",
       "1379    4962_185   test_8166200617       FACEBOOK   2/20/17     1.0\n",
       "1380    4962_185   test_8167830411       FACEBOOK   1/29/17     1.0\n",
       "1381    4962_185   test_8191533222       FACEBOOK    3/2/16     1.0\n",
       "1382    4962_185   test_8192867949       FACEBOOK  11/10/17     1.0\n",
       "1383    4962_185   test_8193238229       FACEBOOK  11/18/16     1.0\n",
       "1384    4962_185   test_8218201172       FACEBOOK   7/19/16     1.0\n",
       "1385    4962_185   test_8219378940       FACEBOOK   12/4/17     1.0\n",
       "1386    4962_185   test_8245807617       FACEBOOK   1/23/14     1.0\n",
       "\n",
       "[1124 rows x 5 columns]"
      ]
     },
     "execution_count": 74,
     "metadata": {},
     "output_type": "execute_result"
    }
   ],
   "source": [
    "dft"
   ]
  },
  {
   "cell_type": "code",
   "execution_count": 75,
   "metadata": {},
   "outputs": [],
   "source": [
    "#dataframe to csv\n",
    "dft.to_csv(r'C:\\Users\\thima\\Desktop\\sahil\\testreviews.csv', index = None, header=True)"
   ]
  },
  {
   "cell_type": "code",
   "execution_count": null,
   "metadata": {},
   "outputs": [],
   "source": []
  }
 ],
 "metadata": {
  "kernelspec": {
   "display_name": "Python 3",
   "language": "python",
   "name": "python3"
  },
  "language_info": {
   "codemirror_mode": {
    "name": "ipython",
    "version": 3
   },
   "file_extension": ".py",
   "mimetype": "text/x-python",
   "name": "python",
   "nbconvert_exporter": "python",
   "pygments_lexer": "ipython3",
   "version": "3.6.4"
  }
 },
 "nbformat": 4,
 "nbformat_minor": 2
}
